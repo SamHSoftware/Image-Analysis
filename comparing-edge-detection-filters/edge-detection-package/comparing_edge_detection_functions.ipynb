{
 "cells": [
  {
   "cell_type": "code",
   "execution_count": 1,
   "metadata": {},
   "outputs": [],
   "source": [
    "from tkinter import *\n",
    "from tkinter import filedialog\n",
    "import cv2 as cv\n",
    "\n",
    "# A function to allow the user to select the image they wish to analyse. \n",
    "def file_selection_dialog():\n",
    "    root = Tk()\n",
    "    root.title('Please select the file in question')\n",
    "    root.filename = filedialog.askopenfilename(initialdir=\"/\", title=\"Select A File\", filetypes=[(\"All files\", \"*.*\")])\n",
    "    file_path = root.filename\n",
    "    root.destroy()\n",
    "    \n",
    "    # If the image has more channels than one, throw an error. \n",
    "    image = cv.imread(file_path, 0) # We load in the image. \n",
    "    if (len(image.shape) > 2): \n",
    "        raise TypeError(\"Your image has more than one channel. Please select an image with only one channel.\")\n",
    "    return file_path"
   ]
  },
  {
   "cell_type": "code",
   "execution_count": 111,
   "metadata": {},
   "outputs": [],
   "source": [
    "import matplotlib.pyplot as plt\n",
    "import cv2 as cv \n",
    "import scipy.ndimage\n",
    "import ntpath\n",
    "import os\n",
    "\n",
    "# A function to compare the effects of different image filters.\n",
    "def compare_edge_detection(file_path, plot_images, save_plot, colormap, kernel_size):\n",
    "\n",
    "    # Load in the image. \n",
    "    image = cv.imread(file_path, 0) \n",
    "    \n",
    "    # Check to see that if the image loaded in without issue. \n",
    "    if image is None: \n",
    "        raise TypeError(\"Error opening image. Image is of type None\") \n",
    "    \n",
    "    # If the image isn't of 'uint-8', then convert it to such.\n",
    "    if image.dtype != 'uint8': \n",
    "        image.astype('uint8')\n",
    "        print(\"Converting image to type 'uint8'.\")\n",
    "\n",
    "    # Median filter image to remove salt and pepper noise, as this can interfere with edge detection.  \n",
    "    median_filter_image = scipy.ndimage.median_filter(image, kernel_size) # We apply the filter to 'smooth' the image.\n",
    "\n",
    "    # Filter 1: Laplace filter. \n",
    "    ddepth = cv.CV_8U\n",
    "    dst = cv.Laplacian(median_filter_image, ddepth, ksize=3)\n",
    "    plt.imshow(dst)\n",
    "    \n",
    "    \n",
    "    "
   ]
  }
 ],
 "metadata": {
  "kernelspec": {
   "display_name": "Python 3",
   "language": "python",
   "name": "python3"
  },
  "language_info": {
   "codemirror_mode": {
    "name": "ipython",
    "version": 3
   },
   "file_extension": ".py",
   "mimetype": "text/x-python",
   "name": "python",
   "nbconvert_exporter": "python",
   "pygments_lexer": "ipython3",
   "version": "3.7.9"
  }
 },
 "nbformat": 4,
 "nbformat_minor": 4
}
