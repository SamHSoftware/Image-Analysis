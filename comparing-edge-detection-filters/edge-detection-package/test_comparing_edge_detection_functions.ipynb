{
 "cells": [
  {
   "cell_type": "code",
   "execution_count": 1,
   "metadata": {},
   "outputs": [],
   "source": [
    "# Import any necessary packages and modules. \n",
    "import cv2 as cv\n",
    "import os\n",
    "import matplotlib.pyplot as plt\n",
    "import numpy as np \n",
    "import scipy.ndimage\n",
    "\n",
    "# Test the function 'comparing_filters()' against the provided output. \n",
    "# Function input args: None. \n",
    "# Function returns: When no errors are detected, a statement confirming this is printed. When errors are detcted, assertion errors are raised. \n",
    "def test_compare_edge_detection(): \n",
    "\n",
    "    # Reconstruct the path so that we can load in the provided images from the 'img' folder. \n",
    "    cwd = os.getcwd()\n",
    "    new_path = cwd.replace('edge-detection-package', 'img')\n",
    "\n",
    "    ######### Test set 1: Testing the initial gaussian filtering.\n",
    "    original = cv.imread(f\"{new_path}/original.png\", 0) \n",
    "    gaussian_filtered = cv.imread(f\"{new_path}/gaussian_filtered.png\", 0) \n",
    "\n",
    "    # Test 1.1: Test to see if the original image has loaded in correctly.\n",
    "    if original is None: \n",
    "    raise TypeError(\"Test 1.1 failed. Error opening image. Image 'original' is of type None\") \n",
    "\n",
    "    # Test 1.2 Test to see if the gaussian_filtered image has loaded in correctely. \n",
    "    if gaussian_filtered is None: \n",
    "    raise TypeError(\"Test 1.2 failed. Error opening image. Image 'gaussian_filtered' is of type None\") \n",
    "    \n",
    "# Run the function for unit testing\n",
    "test_compare_edge_detection()"
   ]
  }
 ],
 "metadata": {
  "kernelspec": {
   "display_name": "Python 3",
   "language": "python",
   "name": "python3"
  },
  "language_info": {
   "codemirror_mode": {
    "name": "ipython",
    "version": 3
   },
   "file_extension": ".py",
   "mimetype": "text/x-python",
   "name": "python",
   "nbconvert_exporter": "python",
   "pygments_lexer": "ipython3",
   "version": "3.7.9"
  }
 },
 "nbformat": 4,
 "nbformat_minor": 4
}
