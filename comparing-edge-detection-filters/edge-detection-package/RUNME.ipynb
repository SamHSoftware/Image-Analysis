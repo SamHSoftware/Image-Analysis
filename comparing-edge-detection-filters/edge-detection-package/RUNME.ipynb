{
 "cells": [
  {
   "cell_type": "code",
   "execution_count": null,
   "metadata": {},
   "outputs": [],
   "source": [
    "# Import the necessary packages.\n",
    "from comparing_edge_detection_filters import *\n",
    "\n",
    "# A function to allow the user to select the image they wish to analyse. \n",
    "# Function input args: none. \n",
    "# Function output 1: The file path of the image in question. \n",
    "file_path = file_selection_dialog()\n",
    "\n",
    "# A function to compare the effects of different image filters.\n",
    "# Function input arg 1: file_path --> A string containing the file path to the image in question. \n",
    "# Function input arg 2: plot_images --> Set to True or False. If True, a montage of filtered images will be displayed in the console. \n",
    "# Function input arg 3: save_plot --> Set to True or False. If True, a montage of filtered images will be saved to the same directory as the source image.\n",
    "# Function input arg 4: kernel_size --> Set to positive integer representing size of gaussian kernel when smoothing image. \n",
    "# Function input arg 5: canny_thresh_1 --> Set to positive integer representing first threshold for the canny filter hysteresis procedure.\n",
    "# Function input arg 6: canny_thresh_2 --> Set to positive integer representing second threshold for the canny filter hysteresis procedure.\n",
    "# Function output 1: The montage of filtered images. \n",
    "montage = compare_edge_detection(file_path, plot_images, save_plot, kernel_size, canny_thresh_1, canny_thresh_2)"
   ]
  }
 ],
 "metadata": {
  "kernelspec": {
   "display_name": "Python 3",
   "language": "python",
   "name": "python3"
  },
  "language_info": {
   "codemirror_mode": {
    "name": "ipython",
    "version": 3
   },
   "file_extension": ".py",
   "mimetype": "text/x-python",
   "name": "python",
   "nbconvert_exporter": "python",
   "pygments_lexer": "ipython3",
   "version": "3.7.9"
  }
 },
 "nbformat": 4,
 "nbformat_minor": 4
}
