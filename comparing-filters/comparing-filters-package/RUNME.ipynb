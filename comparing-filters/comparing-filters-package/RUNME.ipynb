{
 "cells": [
  {
   "cell_type": "code",
   "execution_count": null,
   "metadata": {},
   "outputs": [],
   "source": [
    "# Import functions from the module file. \n",
    "from comparing_filters_functions import *\n",
    "\n",
    "# Function input args: None. \n",
    "# Function returns: The file path corresponding to the image selected by the user. \n",
    "file_path = file_selection_dialog()\n",
    "\n",
    "# Function input arg 1: The file path of the image which needs to be segmented. \n",
    "# Function input arg 2: 'True' to display the figure which compares the filtered/original images to their segmentation outputs. \n",
    "# Function input arg 3: 'True' to save the figure which compares the filtered/original images to their segmentation outputs.\n",
    "# Function input arg 4: The desired colormap to display the images. Must be a string. \n",
    "# Function input arg 5: Kernel size for filtering. \n",
    "# Function output 1: The figure. \n",
    "figure = compare_filters(file_path, plot_images, save_plot, colormap, kernel_size)"
   ]
  }
 ],
 "metadata": {
  "kernelspec": {
   "display_name": "Python 3",
   "language": "python",
   "name": "python3"
  },
  "language_info": {
   "codemirror_mode": {
    "name": "ipython",
    "version": 3
   },
   "file_extension": ".py",
   "mimetype": "text/x-python",
   "name": "python",
   "nbconvert_exporter": "python",
   "pygments_lexer": "ipython3",
   "version": "3.7.9"
  }
 },
 "nbformat": 4,
 "nbformat_minor": 4
}
