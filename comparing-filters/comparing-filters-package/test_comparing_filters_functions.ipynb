{
 "cells": [
  {
   "cell_type": "code",
   "execution_count": 1,
   "metadata": {},
   "outputs": [],
   "source": [
    "# Import the module containing the functions we need to unit test. \n",
    "import comparing_filters_functions\n",
    "\n",
    "# Import any necessary packages and modules. \n",
    "import cv2 as cv\n",
    "import os\n",
    "import matplotlib.pyplot as plt\n",
    "import numpy as np \n",
    "\n",
    "# Test the function 'comparing_filters()' against the provided output. \n",
    "# Function input args: None. \n",
    "# Function returns: When no errors are detected, a statement confirming this is printed. When errors are detcted, assertion errors are raised. \n",
    "def test_compare_filters(): \n",
    "    \n",
    "# Load in the images in question. \n",
    "cwd = os.getcwd()\n",
    "new_path = cwd.replace('comparing_filters_package', 'img')\n",
    "nuclei_segmented = cv.imread(f\"{new_file_path}/nuclei_segmented.png\", 0) \n",
    "nuclei_path = cwd.replace('otsu_segmentation_package', 'img/nuclei.png')\n",
    "threshold, test_segmentation = otsu_segment(nuclei_path, False)\n",
    "\n",
    "# Test 1: Check for numerical and shape equality between the segmentation output generated when using 'nuclei.png' to 'nuclei_segmented.png'.\n",
    "assert np.array_equal(nuclei_segmented, test1), \"The arrays should have the same dimensions and elements. In this case, these conditions are not met\"\n",
    "\n",
    "# Test 2: Check for type equality between the segmentation output generated when using 'nuclei.png' to 'nuclei_segmented.png'.\n",
    "assert nuclei_segmented.dtype == test_segmentation.dtype, \"The segmentation output (generated when using 'nuclei.png') should be of the same data-type (uint8) to the provided output, 'nuclei_segmented.png'. In this case, they are unfortunately of different data types.\"\n",
    "\n",
    "# Test 3: Ensure that the Otsu threshold calculated for 'nuclei.png' is equal to 93. \n",
    "assert threshold == 93, f\"The newly calculated threshold should have been equal to 93.0 but instead , it was equal to {threshold}\"\n",
    "\n",
    "print('Tests complete, no errors.')"
   ]
  }
 ],
 "metadata": {
  "kernelspec": {
   "display_name": "Python 3",
   "language": "python",
   "name": "python3"
  },
  "language_info": {
   "codemirror_mode": {
    "name": "ipython",
    "version": 3
   },
   "file_extension": ".py",
   "mimetype": "text/x-python",
   "name": "python",
   "nbconvert_exporter": "python",
   "pygments_lexer": "ipython3",
   "version": "3.7.9"
  }
 },
 "nbformat": 4,
 "nbformat_minor": 4
}
